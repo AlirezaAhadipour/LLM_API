{
  "nbformat": 4,
  "nbformat_minor": 0,
  "metadata": {
    "colab": {
      "provenance": [],
      "authorship_tag": "ABX9TyMlsJceS65I7ujdxakbVsZt",
      "include_colab_link": true
    },
    "kernelspec": {
      "name": "python3",
      "display_name": "Python 3"
    },
    "language_info": {
      "name": "python"
    }
  },
  "cells": [
    {
      "cell_type": "markdown",
      "metadata": {
        "id": "view-in-github",
        "colab_type": "text"
      },
      "source": [
        "<a href=\"https://colab.research.google.com/github/AlirezaAhadipour/LLM_API/blob/main/summarize.ipynb\" target=\"_parent\"><img src=\"https://colab.research.google.com/assets/colab-badge.svg\" alt=\"Open In Colab\"/></a>"
      ]
    },
    {
      "cell_type": "code",
      "source": [
        "!pip install -q -r requirements.txt"
      ],
      "metadata": {
        "id": "EghAVq4tib_W"
      },
      "execution_count": 6,
      "outputs": []
    },
    {
      "cell_type": "code",
      "execution_count": 8,
      "metadata": {
        "id": "I2uZnpVlddbd"
      },
      "outputs": [],
      "source": [
        "import google.generativeai as palm\n",
        "import asyncio\n",
        "from pyppeteer import launch\n",
        "\n",
        "import config   # containing API key"
      ]
    },
    {
      "cell_type": "code",
      "source": [
        "# url = 'https://...'\n",
        "\n",
        "async def scrape_reviews(url):\n",
        "    reviews = []\n",
        "\n",
        "    # Create a browser\n",
        "    browser = await launch({'headless': True, 'args': ['--window-size=800,3200']})\n",
        "\n",
        "    # Create a new page in browser\n",
        "    page = await browser.newPage()\n",
        "    await page.setViewport({'width': 800, 'height': 3200})\n",
        "    await page.goto(url)\n",
        "    await page.waitForSelector('.jftiEf')\n",
        "\n",
        "    # Get all teh reviews\n",
        "    elements = await page.querySelectorAll('.jftiEf')\n",
        "\n",
        "    for element in elements:\n",
        "        try:\n",
        "            await page.waitForSelector('.w8nwRe')\n",
        "            more_btn = await page.waitForSelector('.w8nwRe')\n",
        "            await page.evaluate('button => button.click()', more_btn)\n",
        "            await page.waitFor(5000)\n",
        "        except:\n",
        "            pass\n",
        "\n",
        "        await page.waitForSelector('.MyEned')\n",
        "        snippet = await element.querySelector('.MyEned')\n",
        "        text = await page.evaluate('selected => selected.textContent', snipopet)\n",
        "\n",
        "        reviews.append(text)\n",
        "\n",
        "    await browser.close()\n",
        "\n",
        "    return reviews\n",
        "\n",
        "reviews = asyncio.get_event_loop().run_until_complete(scrape_reviews(url))"
      ],
      "metadata": {
        "id": "cftcOzBihVN_"
      },
      "execution_count": null,
      "outputs": []
    },
    {
      "cell_type": "code",
      "source": [
        "def summarize(reviews, model):\n",
        "    prompt = 'I collected some reviews of a place I was considering visiting. \\\n",
        "    I want to generally know what people like and dislike.Can you summarize the reviews for me? \\n'\n",
        "\n",
        "    for review in reviews:\n",
        "      prompt += '\\n' + review\n",
        "\n",
        "    completion = palm.generate_text(\n",
        "        model=model,\n",
        "        prompt=prompt,\n",
        "        temperature=0,\n",
        "        max_output_tokens=300   # max length of response\n",
        "    )\n",
        "\n",
        "    return completion.result\n",
        "\n",
        "\n",
        "palm.configure(api_key=config.API_KEY)\n",
        "\n",
        "models = [m for m in palm.list_models() if 'generateText' in m.supported_generation_methods]\n",
        "model = models[0].name\n",
        "\n",
        "url = input('Enter a URL: ')\n",
        "\n",
        "reviews = asyncio.get_event_loop().run_until_complete(scrape_reviews(url))\n",
        "\n",
        "result = summarize(reviews, model)\n",
        "print(result)"
      ],
      "metadata": {
        "id": "nwtDS7ewQ5u3"
      },
      "execution_count": null,
      "outputs": []
    }
  ]
}